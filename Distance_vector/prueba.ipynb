{
 "cells": [
  {
   "cell_type": "code",
   "execution_count": 51,
   "metadata": {},
   "outputs": [],
   "source": [
    "\n",
    "import logging\n",
    "from getpass import getpass\n",
    "import asyncio\n",
    "import json\n",
    "import slixmpp\n",
    "from slixmpp.exceptions import IqError, IqTimeout"
   ]
  },
  {
   "cell_type": "code",
   "execution_count": 52,
   "metadata": {},
   "outputs": [],
   "source": [
    "f = open(\"topologia.txt\", \"r\")\n",
    "data = json.load(f)"
   ]
  },
  {
   "cell_type": "code",
   "execution_count": 53,
   "metadata": {},
   "outputs": [
    {
     "name": "stdout",
     "output_type": "stream",
     "text": [
      "{'type': 'topo', 'config': {'jjhh@alumchat.fun': ['jjhh1@alumchat.fun', 'jjhh3@alumchat.fun', 'jjhh5@alumchat.fun'], 'jjhh1@alumchat.fun': ['jjhh@alumchat.fun', 'jjhh2@alumchat.fun', 'jjhh3@alumchat.fun', 'jjhh5@alumchat.fun'], 'jjhh2@alumchat.fun': ['jjhh1@alumchat.fun', 'jjhh4@alumchat.fun', 'jjhh5@alumchat.fun'], 'jjhh3@alumchat.fun': ['jjhh@alumchat.fun', 'jjhh1@alumchat.fun'], 'jjhh4@alumchat.fun': ['jjhh2@alumchat.fun', 'jjhh5@alumchat.fun'], 'jjhh5@alumchat.fun': ['jjhh@alumchat.fun', 'jjhh1@alumchat.fun', 'jjhh2@alumchat.fun', 'jjhh4@alumchat.fun']}}\n"
     ]
    }
   ],
   "source": [
    "print(data)"
   ]
  },
  {
   "cell_type": "code",
   "execution_count": 54,
   "metadata": {},
   "outputs": [
    {
     "data": {
      "text/plain": [
       "{'jjhh@alumchat.fun': ['jjhh1@alumchat.fun',\n",
       "  'jjhh3@alumchat.fun',\n",
       "  'jjhh5@alumchat.fun'],\n",
       " 'jjhh1@alumchat.fun': ['jjhh@alumchat.fun',\n",
       "  'jjhh2@alumchat.fun',\n",
       "  'jjhh3@alumchat.fun',\n",
       "  'jjhh5@alumchat.fun'],\n",
       " 'jjhh2@alumchat.fun': ['jjhh1@alumchat.fun',\n",
       "  'jjhh4@alumchat.fun',\n",
       "  'jjhh5@alumchat.fun'],\n",
       " 'jjhh3@alumchat.fun': ['jjhh@alumchat.fun', 'jjhh1@alumchat.fun'],\n",
       " 'jjhh4@alumchat.fun': ['jjhh2@alumchat.fun', 'jjhh5@alumchat.fun'],\n",
       " 'jjhh5@alumchat.fun': ['jjhh@alumchat.fun',\n",
       "  'jjhh1@alumchat.fun',\n",
       "  'jjhh2@alumchat.fun',\n",
       "  'jjhh4@alumchat.fun']}"
      ]
     },
     "execution_count": 54,
     "metadata": {},
     "output_type": "execute_result"
    }
   ],
   "source": [
    "data['config']"
   ]
  },
  {
   "cell_type": "code",
   "execution_count": 55,
   "metadata": {},
   "outputs": [
    {
     "data": {
      "text/plain": [
       "['jjhh@alumchat.fun',\n",
       " 'jjhh1@alumchat.fun',\n",
       " 'jjhh2@alumchat.fun',\n",
       " 'jjhh3@alumchat.fun',\n",
       " 'jjhh4@alumchat.fun',\n",
       " 'jjhh5@alumchat.fun']"
      ]
     },
     "execution_count": 55,
     "metadata": {},
     "output_type": "execute_result"
    }
   ],
   "source": [
    "list(data['config'].keys())\n"
   ]
  },
  {
   "cell_type": "code",
   "execution_count": 56,
   "metadata": {},
   "outputs": [],
   "source": [
    "input_usuario = 'jjhh@alumchat.fun'\n",
    "user_connections = data['config'][input_usuario]\n",
    "network_users = list(data['config'].keys())"
   ]
  },
  {
   "cell_type": "code",
   "execution_count": 91,
   "metadata": {},
   "outputs": [
    {
     "data": {
      "text/plain": [
       "['jjhh1@alumchat.fun', 'jjhh3@alumchat.fun', 'jjhh5@alumchat.fun']"
      ]
     },
     "execution_count": 91,
     "metadata": {},
     "output_type": "execute_result"
    }
   ],
   "source": [
    "user_connections"
   ]
  },
  {
   "cell_type": "code",
   "execution_count": 57,
   "metadata": {},
   "outputs": [
    {
     "data": {
      "text/plain": [
       "['jjhh2@alumchat.fun', 'jjhh4@alumchat.fun']"
      ]
     },
     "execution_count": 57,
     "metadata": {},
     "output_type": "execute_result"
    }
   ],
   "source": [
    "# substract network users from user connections\n",
    "list(set(network_users) - set(user_connections)- set([input_usuario]))"
   ]
  },
  {
   "cell_type": "code",
   "execution_count": 58,
   "metadata": {},
   "outputs": [],
   "source": [
    "\n",
    "\n",
    "def distance_vector_initialization(input_usuario, user_connections, network_users):\n",
    "    hops = {}\n",
    "    distance_vector = {}\n",
    "    for n in network_users:\n",
    "        if n in user_connections:\n",
    "            distance_vector[n] = 1\n",
    "            hops[n] = input_usuario +\",\"+n\n",
    "        elif n == input_usuario:\n",
    "            distance_vector[n] = 0\n",
    "            hops[n] = input_usuario\n",
    "        else:\n",
    "            distance_vector[n] = 1000\n",
    "            hops[n] = input_usuario\n",
    "    return distance_vector, hops\n",
    "    "
   ]
  },
  {
   "cell_type": "code",
   "execution_count": 88,
   "metadata": {},
   "outputs": [
    {
     "data": {
      "text/plain": [
       "({'jjhh@alumchat.fun': 0,\n",
       "  'jjhh1@alumchat.fun': 1,\n",
       "  'jjhh2@alumchat.fun': 1000,\n",
       "  'jjhh3@alumchat.fun': 1,\n",
       "  'jjhh4@alumchat.fun': 1000,\n",
       "  'jjhh5@alumchat.fun': 1},\n",
       " {'jjhh@alumchat.fun': 'jjhh@alumchat.fun',\n",
       "  'jjhh1@alumchat.fun': 'jjhh@alumchat.fun,jjhh1@alumchat.fun',\n",
       "  'jjhh2@alumchat.fun': 'jjhh@alumchat.fun',\n",
       "  'jjhh3@alumchat.fun': 'jjhh@alumchat.fun,jjhh3@alumchat.fun',\n",
       "  'jjhh4@alumchat.fun': 'jjhh@alumchat.fun',\n",
       "  'jjhh5@alumchat.fun': 'jjhh@alumchat.fun,jjhh5@alumchat.fun'})"
      ]
     },
     "execution_count": 88,
     "metadata": {},
     "output_type": "execute_result"
    }
   ],
   "source": [
    "origin, origin_hops = distance_vector_initialization(input_usuario, user_connections, network_users)\n",
    "origin, origin_hops"
   ]
  },
  {
   "cell_type": "code",
   "execution_count": 60,
   "metadata": {},
   "outputs": [],
   "source": [
    "first_contact, first_contact_hops = distance_vector_initialization('jjhh1@alumchat.fun', data['config']['jjhh1@alumchat.fun'], network_users)\n",
    "second_contact, second_contact_hops = distance_vector_initialization('jjhh1@alumchat.fun', data['config']['jjhh3@alumchat.fun'], network_users)"
   ]
  },
  {
   "cell_type": "code",
   "execution_count": 61,
   "metadata": {},
   "outputs": [
    {
     "data": {
      "text/plain": [
       "({'jjhh@alumchat.fun': 1,\n",
       "  'jjhh1@alumchat.fun': 0,\n",
       "  'jjhh2@alumchat.fun': 1,\n",
       "  'jjhh3@alumchat.fun': 1,\n",
       "  'jjhh4@alumchat.fun': 1000,\n",
       "  'jjhh5@alumchat.fun': 1},\n",
       " {'jjhh@alumchat.fun': 'jjhh1@alumchat.fun,jjhh@alumchat.fun',\n",
       "  'jjhh1@alumchat.fun': 'jjhh1@alumchat.fun',\n",
       "  'jjhh2@alumchat.fun': 'jjhh1@alumchat.fun,jjhh2@alumchat.fun',\n",
       "  'jjhh3@alumchat.fun': 'jjhh1@alumchat.fun,jjhh3@alumchat.fun',\n",
       "  'jjhh4@alumchat.fun': 'jjhh1@alumchat.fun',\n",
       "  'jjhh5@alumchat.fun': 'jjhh1@alumchat.fun,jjhh5@alumchat.fun'})"
      ]
     },
     "execution_count": 61,
     "metadata": {},
     "output_type": "execute_result"
    }
   ],
   "source": [
    "(first_contact, first_contact_hops)"
   ]
  },
  {
   "cell_type": "code",
   "execution_count": 62,
   "metadata": {},
   "outputs": [],
   "source": [
    "# Esto cada vez que le caiga un mensaje\n",
    "# se me ocurria un split tipo 'computation||dv||hops\n",
    "def distance_vector_update(self_node, distance_vector, hops_vector, upcomming_distance_vector, upcomming_hops_vector):\n",
    "    node_list = list(distance_vector.keys())\n",
    "    result_distance = {}\n",
    "    result_hops = {}\n",
    "    for n in node_list:\n",
    "        # el +1 es porque la distancia hacia mis vecinos se que es 1\n",
    "        if (upcomming_distance_vector[n] + 1) < distance_vector[n]:\n",
    "            result_distance[n] = upcomming_distance_vector[n] + 1\n",
    "            result_hops[n] = self_node +\",\"+upcomming_hops_vector[n]  #la , es para separar los hops que se deben tener\n",
    "        else:\n",
    "            #si no se cambia nada se quedan como estaban\n",
    "            result_distance[n] = distance_vector[n]\n",
    "            result_hops[n] = hops_vector[n]\n",
    "    return result_distance, result_hops"
   ]
  },
  {
   "cell_type": "markdown",
   "metadata": {},
   "source": [
    "simulación de uso con 1 vecino"
   ]
  },
  {
   "cell_type": "code",
   "execution_count": 63,
   "metadata": {},
   "outputs": [],
   "source": [
    "first_iter_dv, first_iter_hops = distance_vector_update(input_usuario, origin, origin_hops, first_contact, first_contact_hops)"
   ]
  },
  {
   "cell_type": "code",
   "execution_count": 64,
   "metadata": {},
   "outputs": [
    {
     "data": {
      "text/plain": [
       "({'jjhh@alumchat.fun': 0,\n",
       "  'jjhh1@alumchat.fun': 1,\n",
       "  'jjhh2@alumchat.fun': 2,\n",
       "  'jjhh3@alumchat.fun': 1,\n",
       "  'jjhh4@alumchat.fun': 1000,\n",
       "  'jjhh5@alumchat.fun': 1},\n",
       " {'jjhh@alumchat.fun': 'jjhh@alumchat.fun',\n",
       "  'jjhh1@alumchat.fun': 'jjhh@alumchat.fun,jjhh1@alumchat.fun',\n",
       "  'jjhh2@alumchat.fun': 'jjhh@alumchat.fun,jjhh1@alumchat.fun,jjhh2@alumchat.fun',\n",
       "  'jjhh3@alumchat.fun': 'jjhh@alumchat.fun,jjhh3@alumchat.fun',\n",
       "  'jjhh4@alumchat.fun': 'jjhh@alumchat.fun',\n",
       "  'jjhh5@alumchat.fun': 'jjhh@alumchat.fun,jjhh5@alumchat.fun'})"
      ]
     },
     "execution_count": 64,
     "metadata": {},
     "output_type": "execute_result"
    }
   ],
   "source": [
    "(first_iter_dv, first_iter_hops)"
   ]
  },
  {
   "cell_type": "code",
   "execution_count": 90,
   "metadata": {},
   "outputs": [
    {
     "name": "stdout",
     "output_type": "stream",
     "text": [
      "computation||{\"jjhh@alumchat.fun\": 0, \"jjhh1@alumchat.fun\": 1, \"jjhh2@alumchat.fun\": 2, \"jjhh3@alumchat.fun\": 1, \"jjhh4@alumchat.fun\": 1000, \"jjhh5@alumchat.fun\": 1}||{\"jjhh@alumchat.fun\": \"jjhh@alumchat.fun\", \"jjhh1@alumchat.fun\": \"jjhh@alumchat.fun,jjhh1@alumchat.fun\", \"jjhh2@alumchat.fun\": \"jjhh@alumchat.fun,jjhh1@alumchat.fun,jjhh2@alumchat.fun\", \"jjhh3@alumchat.fun\": \"jjhh@alumchat.fun,jjhh3@alumchat.fun\", \"jjhh4@alumchat.fun\": \"jjhh@alumchat.fun\", \"jjhh5@alumchat.fun\": \"jjhh@alumchat.fun,jjhh5@alumchat.fun\"}\n"
     ]
    }
   ],
   "source": [
    "strprueba = 'computation||'+json.dumps(first_iter_dv)+'||'+json.dumps(first_iter_hops)\n",
    "print(strprueba)"
   ]
  },
  {
   "cell_type": "code",
   "execution_count": 92,
   "metadata": {},
   "outputs": [
    {
     "data": {
      "text/plain": [
       "0"
      ]
     },
     "execution_count": 92,
     "metadata": {},
     "output_type": "execute_result"
    }
   ],
   "source": [
    "json.loads(strprueba.split('||')[1])['jjhh@alumchat.fun']"
   ]
  },
  {
   "cell_type": "markdown",
   "metadata": {},
   "source": [
    "En teoría si le paso el mismo dv y dh no debería de cambiar el resultado"
   ]
  },
  {
   "cell_type": "code",
   "execution_count": 65,
   "metadata": {},
   "outputs": [
    {
     "data": {
      "text/plain": [
       "({'jjhh@alumchat.fun': 0,\n",
       "  'jjhh1@alumchat.fun': 1,\n",
       "  'jjhh2@alumchat.fun': 2,\n",
       "  'jjhh3@alumchat.fun': 1,\n",
       "  'jjhh4@alumchat.fun': 1000,\n",
       "  'jjhh5@alumchat.fun': 1},\n",
       " {'jjhh@alumchat.fun': 'jjhh@alumchat.fun',\n",
       "  'jjhh1@alumchat.fun': 'jjhh@alumchat.fun,jjhh1@alumchat.fun',\n",
       "  'jjhh2@alumchat.fun': 'jjhh@alumchat.fun,jjhh1@alumchat.fun,jjhh2@alumchat.fun',\n",
       "  'jjhh3@alumchat.fun': 'jjhh@alumchat.fun,jjhh3@alumchat.fun',\n",
       "  'jjhh4@alumchat.fun': 'jjhh@alumchat.fun',\n",
       "  'jjhh5@alumchat.fun': 'jjhh@alumchat.fun,jjhh5@alumchat.fun'})"
      ]
     },
     "execution_count": 65,
     "metadata": {},
     "output_type": "execute_result"
    }
   ],
   "source": [
    "distance_vector_update(input_usuario, first_iter_dv, first_iter_hops, first_contact, first_contact_hops)"
   ]
  },
  {
   "cell_type": "markdown",
   "metadata": {},
   "source": [
    "En resumen, cada nodo puede recibir un distance vector y distance hops de un vecino sin necesariamente saber de quién vino: el protocolo que puede funcionar para el mensaje podría ser: 'computation||'+Distance_vector+'||'+Hops_vector"
   ]
  },
  {
   "cell_type": "markdown",
   "metadata": {},
   "source": [
    "Aqui son pruebas para ver lo del distance vector"
   ]
  },
  {
   "cell_type": "markdown",
   "metadata": {},
   "source": [
    "La forma de parar estas iteraciones, es ver si despues varios computations que me llegan, mi origin (distance vector) es igual, entonces podemos sacar los values de origin y nos va a devolver una lista de numeros."
   ]
  },
  {
   "cell_type": "markdown",
   "metadata": {},
   "source": [
    "Tambien dentro de nuestras clases vamos a tener que crear un atributo lista, que sea como historial_origin"
   ]
  },
  {
   "cell_type": "code",
   "execution_count": 5,
   "metadata": {},
   "outputs": [],
   "source": [
    "list_1 = [1,2,3,4,5]\n",
    "list_2 = [1,2,3,4,5]"
   ]
  },
  {
   "cell_type": "code",
   "execution_count": 6,
   "metadata": {},
   "outputs": [
    {
     "data": {
      "text/plain": [
       "[2, 3, 4, 5]"
      ]
     },
     "execution_count": 6,
     "metadata": {},
     "output_type": "execute_result"
    }
   ],
   "source": [
    "list_1[1:]"
   ]
  },
  {
   "cell_type": "code",
   "execution_count": 117,
   "metadata": {},
   "outputs": [
    {
     "data": {
      "text/plain": [
       "True"
      ]
     },
     "execution_count": 117,
     "metadata": {},
     "output_type": "execute_result"
    }
   ],
   "source": [
    "list_1 == list_2"
   ]
  },
  {
   "cell_type": "code",
   "execution_count": 75,
   "metadata": {},
   "outputs": [],
   "source": [
    "list_of_lists = [list_1, list_2] #las listas de los valores de distancia de las tablas de ruteo\n",
    "\n",
    "#check if all the list inside list_of_lists are equal\n",
    "def check_lists(list_of_lists):\n",
    "    for l in list_of_lists:\n",
    "        if l != list_of_lists[0]:\n",
    "            return False\n",
    "    return True"
   ]
  },
  {
   "cell_type": "code",
   "execution_count": null,
   "metadata": {},
   "outputs": [],
   "source": [
    "#suponiendo de que new_origin fuera un diccionario con los jids y los pesos (el int del costo)\n",
    "#self.historial_origin = []\n",
    "#self.historial_origin = (self.historial_origin.copy() + [list(new_origin.values())])[-5:] #esto va a ser una lista de los ultimos 5 vectores\n",
    "\n",
    "\n",
    "# el boolean para saber si paro de actualizar mi origin y origin_hops seria\n",
    "# me va a dar verdadero si debo parar\n",
    "# len(self.historial_origin) == 5 && check_lists(self.historial_origin)\n",
    "\n",
    "\n",
    "#hacer el update basado en un if de una variable booleana que se actualiza cada vez que se recibe un mensaje\n",
    "\n",
    "\n"
   ]
  },
  {
   "cell_type": "code",
   "execution_count": null,
   "metadata": {},
   "outputs": [],
   "source": [
    "#para verificar si paramos seria\n",
    "#check_lists(self.historial_origin)"
   ]
  },
  {
   "cell_type": "code",
   "execution_count": 76,
   "metadata": {},
   "outputs": [
    {
     "data": {
      "text/plain": [
       "True"
      ]
     },
     "execution_count": 76,
     "metadata": {},
     "output_type": "execute_result"
    }
   ],
   "source": [
    "check_lists(list_of_lists)"
   ]
  },
  {
   "cell_type": "code",
   "execution_count": 84,
   "metadata": {},
   "outputs": [
    {
     "data": {
      "text/plain": [
       "[1, 2, 3, 4, 5, 6]"
      ]
     },
     "execution_count": 84,
     "metadata": {},
     "output_type": "execute_result"
    }
   ],
   "source": [
    "list_2.append(6)\n",
    "list_2"
   ]
  },
  {
   "cell_type": "code",
   "execution_count": 94,
   "metadata": {},
   "outputs": [
    {
     "data": {
      "text/plain": [
       "[1, 2, 3, 4]"
      ]
     },
     "execution_count": 94,
     "metadata": {},
     "output_type": "execute_result"
    }
   ],
   "source": [
    "list1"
   ]
  },
  {
   "cell_type": "code",
   "execution_count": 112,
   "metadata": {},
   "outputs": [],
   "source": [
    "listado = [1,2,3]"
   ]
  },
  {
   "cell_type": "code",
   "execution_count": 110,
   "metadata": {},
   "outputs": [],
   "source": [
    "numeroprueba = 4 #[1,0,1000,0]"
   ]
  },
  {
   "cell_type": "code",
   "execution_count": 113,
   "metadata": {},
   "outputs": [
    {
     "data": {
      "text/plain": [
       "[2, 3, 4]"
      ]
     },
     "execution_count": 113,
     "metadata": {},
     "output_type": "execute_result"
    }
   ],
   "source": [
    "(listado.copy() + [numeroprueba])[-3:]"
   ]
  },
  {
   "cell_type": "code",
   "execution_count": 87,
   "metadata": {},
   "outputs": [
    {
     "data": {
      "text/plain": [
       "[1, 2]"
      ]
     },
     "execution_count": 87,
     "metadata": {},
     "output_type": "execute_result"
    }
   ],
   "source": [
    "#print the last 3 elements of list_2\n",
    "listado[-3:]"
   ]
  }
 ],
 "metadata": {
  "kernelspec": {
   "display_name": "Python 3.9.10 64-bit",
   "language": "python",
   "name": "python3"
  },
  "language_info": {
   "codemirror_mode": {
    "name": "ipython",
    "version": 3
   },
   "file_extension": ".py",
   "mimetype": "text/x-python",
   "name": "python",
   "nbconvert_exporter": "python",
   "pygments_lexer": "ipython3",
   "version": "3.9.10"
  },
  "orig_nbformat": 4,
  "vscode": {
   "interpreter": {
    "hash": "347a625715fe29511df74443d0ac60b514ce17bf8af058876f43cde387af9535"
   }
  }
 },
 "nbformat": 4,
 "nbformat_minor": 2
}
